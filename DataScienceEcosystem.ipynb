{
 "cells": [
  {
   "cell_type": "markdown",
   "id": "dcb16bec",
   "metadata": {},
   "source": [
    "<h1> Data Science Tools and Ecosystem</h1>"
   ]
  },
  {
   "cell_type": "markdown",
   "id": "3cc39370",
   "metadata": {},
   "source": [
    "# In this notebook, Data Science Tools and Ecosystem are summarized"
   ]
  },
  {
   "cell_type": "markdown",
   "id": "3cf508ab",
   "metadata": {},
   "source": [
    "**Objectives**\n",
    "List popular languages for Data Science\n",
    "*Python\n",
    "*R\n",
    "*Sql"
   ]
  },
  {
   "cell_type": "markdown",
   "id": "f91afa52",
   "metadata": {},
   "source": [
    "<h1>Some of the popular languages that Data Scientists use are:</h1> "
   ]
  },
  {
   "cell_type": "markdown",
   "id": "5385178b",
   "metadata": {},
   "source": [
    "|S.no|Language|\n",
    "1. Python\n",
    "2. R\n",
    "3. SQL"
   ]
  },
  {
   "cell_type": "markdown",
   "id": "db5bdb91",
   "metadata": {},
   "source": [
    "| Data Science Tools |\n",
    "|-------------------|\n",
    "| Jupyter notebook |\n",
    "| Matplotlib |\n",
    "| Pandas |"
   ]
  },
  {
   "cell_type": "markdown",
   "id": "d5609f86",
   "metadata": {},
   "source": [
    "<h3>Below are a few examples of evaluating arithmetic expressions in Python</h3>"
   ]
  },
  {
   "cell_type": "code",
   "execution_count": 1,
   "id": "ca55a1de",
   "metadata": {},
   "outputs": [
    {
     "name": "stdout",
     "output_type": "stream",
     "text": [
      "17\n"
     ]
    }
   ],
   "source": [
    "#This a simple arithmetic expression to mutiply then add integers\n",
    "print((3*4)+5)"
   ]
  },
  {
   "cell_type": "code",
   "execution_count": 2,
   "id": "8a853b88",
   "metadata": {},
   "outputs": [
    {
     "name": "stdout",
     "output_type": "stream",
     "text": [
      "3.3333333333333335\n"
     ]
    }
   ],
   "source": [
    "# This will convert 200 minutes to hours by diving by 60.\n",
    "minutes=200\n",
    "hours=minutes/60\n",
    "print(hours)"
   ]
  },
  {
   "cell_type": "markdown",
   "id": "665f429f",
   "metadata": {},
   "source": [
    "**objectives**\n",
    "List popular languages for Data Science\n",
    "- Python\n",
    "- R\n",
    "- SQL\n"
   ]
  },
  {
   "cell_type": "markdown",
   "id": "6f3c7daa",
   "metadata": {},
   "source": [
    "<h2>Author</h2>\n",
    "Name:-Santoosh"
   ]
  },
  {
   "cell_type": "markdown",
   "id": "83d30175",
   "metadata": {},
   "source": [
    "Some of the commonly used libraries used by Data Scientists include:\n",
    "1. Numoy\n",
    "2. pandas\n",
    "3. ggplot"
   ]
  },
  {
   "cell_type": "code",
   "execution_count": null,
   "id": "2dd45ca6",
   "metadata": {},
   "outputs": [],
   "source": []
  }
 ],
 "metadata": {
  "kernelspec": {
   "display_name": "Python 3 (ipykernel)",
   "language": "python",
   "name": "python3"
  },
  "language_info": {
   "codemirror_mode": {
    "name": "ipython",
    "version": 3
   },
   "file_extension": ".py",
   "mimetype": "text/x-python",
   "name": "python",
   "nbconvert_exporter": "python",
   "pygments_lexer": "ipython3",
   "version": "3.9.7"
  }
 },
 "nbformat": 4,
 "nbformat_minor": 5
}
